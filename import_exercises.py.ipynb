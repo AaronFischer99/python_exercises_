{
 "cells": [
  {
   "cell_type": "code",
   "execution_count": null,
   "id": "b317e04c",
   "metadata": {},
   "outputs": [],
   "source": []
  },
  {
   "cell_type": "code",
   "execution_count": null,
   "id": "abe7871d",
   "metadata": {},
   "outputs": [],
   "source": []
  },
  {
   "cell_type": "code",
   "execution_count": null,
   "id": "e3b161d6",
   "metadata": {},
   "outputs": [],
   "source": [
    "2. "
   ]
  },
  {
   "cell_type": "code",
   "execution_count": 1,
   "id": "46246efb",
   "metadata": {},
   "outputs": [],
   "source": [
    "import itertools"
   ]
  },
  {
   "cell_type": "code",
   "execution_count": null,
   "id": "35f4dadf",
   "metadata": {},
   "outputs": [],
   "source": [
    "#1. How many different ways can you combine the letters from \"abc\" with the numbers 1, 2, and 3?    #1. How many different ways can you combine the letters from \"abc\" with the numbers 1, 2, and 3?\n",
    "\n",
    "(len(list(itertools.combinations(\"abcd\",2))))\n"
   ]
  },
  {
   "cell_type": "code",
   "execution_count": null,
   "id": "093084fd",
   "metadata": {},
   "outputs": [],
   "source": [
    "#2. How many different ways can you combine two of the letters from \"abcd\"?\n",
    "(len(list(itertools.product([1,2,3],'abc'))))\n"
   ]
  },
  {
   "cell_type": "code",
   "execution_count": 2,
   "id": "abc1f64d",
   "metadata": {},
   "outputs": [
    {
     "data": {
      "text/plain": [
       "720"
      ]
     },
     "execution_count": 2,
     "metadata": {},
     "output_type": "execute_result"
    }
   ],
   "source": [
    "#How many permutation\n",
    "\n",
    "(len(list(itertools.permutations(\"abcd,2\"))))"
   ]
  },
  {
   "cell_type": "code",
   "execution_count": null,
   "id": "48e5ec9e",
   "metadata": {},
   "outputs": [],
   "source": []
  },
  {
   "cell_type": "code",
   "execution_count": null,
   "id": "a7a79724",
   "metadata": {},
   "outputs": [],
   "source": [
    "1. "
   ]
  },
  {
   "cell_type": "code",
   "execution_count": 14,
   "id": "3db83bc9",
   "metadata": {},
   "outputs": [
    {
     "data": {
      "text/plain": [
       "'Vowel'"
      ]
     },
     "execution_count": 14,
     "metadata": {},
     "output_type": "execute_result"
    }
   ],
   "source": [
    "#1. Call the is_vowel and test it\n",
    "\n",
    "import Python_exercises_downsized  as exercises\n",
    "\n",
    "exercises.is_consonant(\"A\")"
   ]
  },
  {
   "cell_type": "code",
   "execution_count": null,
   "id": "f2139449",
   "metadata": {},
   "outputs": [],
   "source": []
  },
  {
   "cell_type": "code",
   "execution_count": 31,
   "id": "9af88c7f",
   "metadata": {},
   "outputs": [
    {
     "ename": "SyntaxError",
     "evalue": "invalid syntax (1056944862.py, line 11)",
     "output_type": "error",
     "traceback": [
      "\u001b[0;36m  Cell \u001b[0;32mIn[31], line 11\u001b[0;36m\u001b[0m\n\u001b[0;31m    def if_not(\"A\")\u001b[0m\n\u001b[0m               ^\u001b[0m\n\u001b[0;31mSyntaxError\u001b[0m\u001b[0;31m:\u001b[0m invalid syntax\n"
     ]
    }
   ],
   "source": [
    "from Python_exercises_downsized import is_vowel as sec_func\n",
    "\n",
    "def if_not():\n",
    "    words = \"aeiouAEIOU\"\n",
    "\n",
    "    if words in sec_func:\n",
    "        print(True)\n",
    "    else:\n",
    "        print(False)\n",
    "        \n",
    "def if_not(\"A\")"
   ]
  },
  {
   "cell_type": "code",
   "execution_count": null,
   "id": "73149ce6",
   "metadata": {},
   "outputs": [],
   "source": []
  },
  {
   "cell_type": "code",
   "execution_count": 37,
   "id": "eb3bc75d",
   "metadata": {},
   "outputs": [],
   "source": [
    "def check_letter_in_imported_function(letter_to_check):\n",
    "    # Call the imported function\n",
    "    result = vowel()\n",
    "\n",
    "    # Check if the letter is contained in the result\n",
    "    if letter_to_check in result:\n",
    "        return True\n",
    "    else:\n",
    "        return False\n",
    "\n",
    "    \n"
   ]
  },
  {
   "cell_type": "code",
   "execution_count": null,
   "id": "3d90fe9e",
   "metadata": {},
   "outputs": [],
   "source": []
  },
  {
   "cell_type": "code",
   "execution_count": null,
   "id": "5e67b2e0",
   "metadata": {},
   "outputs": [],
   "source": []
  },
  {
   "cell_type": "code",
   "execution_count": 1,
   "id": "1e30040c",
   "metadata": {},
   "outputs": [],
   "source": [
    "import importlib"
   ]
  },
  {
   "cell_type": "code",
   "execution_count": 3,
   "id": "ea1ce1fa",
   "metadata": {},
   "outputs": [],
   "source": [
    "import Python_exercises_downsized  as exercises"
   ]
  },
  {
   "cell_type": "code",
   "execution_count": 6,
   "id": "225f53e8",
   "metadata": {},
   "outputs": [
    {
     "data": {
      "text/plain": [
       "'$10.0'"
      ]
     },
     "execution_count": 6,
     "metadata": {},
     "output_type": "execute_result"
    }
   ],
   "source": [
    "# B. Create a file named import_exercises.py. Within this file, \n",
    "#use from to import the calculate_tip function directly. \n",
    "#Call this function with values you choose and print the result.\n",
    "\n",
    "\n",
    "\n",
    "exercises.calculate_tip(100, .10)"
   ]
  },
  {
   "cell_type": "code",
   "execution_count": null,
   "id": "f16c68a7",
   "metadata": {},
   "outputs": [],
   "source": []
  },
  {
   "cell_type": "code",
   "execution_count": null,
   "id": "72b55ec3",
   "metadata": {},
   "outputs": [],
   "source": [
    "3."
   ]
  },
  {
   "cell_type": "code",
   "execution_count": null,
   "id": "cff69c1e",
   "metadata": {},
   "outputs": [],
   "source": [
    "# C. Create a jupyter notebook named import_exercises.ipynb. \n",
    "#Use from to import the get_letter_grade function and give it an alias. \n",
    "#Test this function in your notebook."
   ]
  },
  {
   "cell_type": "code",
   "execution_count": 9,
   "id": "ee172cdc",
   "metadata": {},
   "outputs": [],
   "source": [
    "from Python_exercises_downsized import get_letter_grade as grade"
   ]
  },
  {
   "cell_type": "code",
   "execution_count": 11,
   "id": "8b44e431",
   "metadata": {},
   "outputs": [
    {
     "name": "stdout",
     "output_type": "stream",
     "text": [
      "84 is a B\n"
     ]
    }
   ],
   "source": [
    "grade(84)"
   ]
  },
  {
   "cell_type": "code",
   "execution_count": null,
   "id": "e748bb4e",
   "metadata": {},
   "outputs": [],
   "source": []
  },
  {
   "cell_type": "code",
   "execution_count": 6,
   "id": "bfccc68b",
   "metadata": {},
   "outputs": [],
   "source": [
    "import json\n",
    "\n",
    "import pandas as pd\n"
   ]
  },
  {
   "cell_type": "code",
   "execution_count": 55,
   "id": "dfbf7f0a",
   "metadata": {},
   "outputs": [
    {
     "data": {
      "text/html": [
       "<div>\n",
       "<style scoped>\n",
       "    .dataframe tbody tr th:only-of-type {\n",
       "        vertical-align: middle;\n",
       "    }\n",
       "\n",
       "    .dataframe tbody tr th {\n",
       "        vertical-align: top;\n",
       "    }\n",
       "\n",
       "    .dataframe thead th {\n",
       "        text-align: right;\n",
       "    }\n",
       "</style>\n",
       "<table border=\"1\" class=\"dataframe\">\n",
       "  <thead>\n",
       "    <tr style=\"text-align: right;\">\n",
       "      <th></th>\n",
       "      <th>0</th>\n",
       "      <th>1</th>\n",
       "      <th>2</th>\n",
       "      <th>3</th>\n",
       "      <th>4</th>\n",
       "      <th>5</th>\n",
       "      <th>6</th>\n",
       "      <th>7</th>\n",
       "      <th>8</th>\n",
       "      <th>9</th>\n",
       "    </tr>\n",
       "  </thead>\n",
       "  <tbody>\n",
       "    <tr>\n",
       "      <th>_id</th>\n",
       "      <td>54e23c3e46ab53a440b580e8</td>\n",
       "      <td>54e23c3ef5cc0d250968c212</td>\n",
       "      <td>54e23c3e09cc6875638cd36b</td>\n",
       "      <td>54e23c3e54e4094147a3b1da</td>\n",
       "      <td>54e23c3e177caf5567ba87ac</td>\n",
       "      <td>54e23c3eaffbb506aa15ec1c</td>\n",
       "      <td>54e23c3e0fd8074c2ca52667</td>\n",
       "      <td>54e23c3eb112d96e4204914d</td>\n",
       "      <td>54e23c3ef30f14d0e5afddf3</td>\n",
       "      <td>54e23c3ebd80e9c26b057fa3</td>\n",
       "    </tr>\n",
       "    <tr>\n",
       "      <th>index</th>\n",
       "      <td>0</td>\n",
       "      <td>1</td>\n",
       "      <td>2</td>\n",
       "      <td>3</td>\n",
       "      <td>4</td>\n",
       "      <td>5</td>\n",
       "      <td>6</td>\n",
       "      <td>7</td>\n",
       "      <td>8</td>\n",
       "      <td>9</td>\n",
       "    </tr>\n",
       "    <tr>\n",
       "      <th>guid</th>\n",
       "      <td>9962b468-ef3e-4993-b677-617469bc3008</td>\n",
       "      <td>905f849d-49bf-4a57-b4f3-5d6e4bf1b04c</td>\n",
       "      <td>1b042d48-9cfa-4db5-8b60-4104165591c3</td>\n",
       "      <td>69eb3454-8acc-46f1-a636-c6df00dfb542</td>\n",
       "      <td>97962c85-7700-4ffa-a01e-2fcbc147fd81</td>\n",
       "      <td>fc3e04d1-44c2-449e-891a-d4f8053d14a4</td>\n",
       "      <td>af8d9a03-fde9-4039-b20c-c4708d4cfc3c</td>\n",
       "      <td>95f1c020-f9eb-4a29-b236-e766759d89d0</td>\n",
       "      <td>bde2d56f-2488-40d0-a7d2-21019ee8a18b</td>\n",
       "      <td>75991ca5-05ed-499e-bbb5-f057f86d05d7</td>\n",
       "    </tr>\n",
       "    <tr>\n",
       "      <th>isActive</th>\n",
       "      <td>False</td>\n",
       "      <td>False</td>\n",
       "      <td>True</td>\n",
       "      <td>False</td>\n",
       "      <td>False</td>\n",
       "      <td>True</td>\n",
       "      <td>False</td>\n",
       "      <td>False</td>\n",
       "      <td>False</td>\n",
       "      <td>True</td>\n",
       "    </tr>\n",
       "    <tr>\n",
       "      <th>balance</th>\n",
       "      <td>$2,097.02</td>\n",
       "      <td>$3,654.02</td>\n",
       "      <td>$1,536.02</td>\n",
       "      <td>$3,919.64</td>\n",
       "      <td>$3,681.39</td>\n",
       "      <td>$1,694.42</td>\n",
       "      <td>$1,214.10</td>\n",
       "      <td>$2,930.31</td>\n",
       "      <td>$1,944.15</td>\n",
       "      <td>$2,839.22</td>\n",
       "    </tr>\n",
       "    <tr>\n",
       "      <th>picture</th>\n",
       "      <td>http://placehold.it/32x32</td>\n",
       "      <td>http://placehold.it/32x32</td>\n",
       "      <td>http://placehold.it/32x32</td>\n",
       "      <td>http://placehold.it/32x32</td>\n",
       "      <td>http://placehold.it/32x32</td>\n",
       "      <td>http://placehold.it/32x32</td>\n",
       "      <td>http://placehold.it/32x32</td>\n",
       "      <td>http://placehold.it/32x32</td>\n",
       "      <td>http://placehold.it/32x32</td>\n",
       "      <td>http://placehold.it/32x32</td>\n",
       "    </tr>\n",
       "    <tr>\n",
       "      <th>age</th>\n",
       "      <td>39</td>\n",
       "      <td>30</td>\n",
       "      <td>31</td>\n",
       "      <td>20</td>\n",
       "      <td>39</td>\n",
       "      <td>30</td>\n",
       "      <td>35</td>\n",
       "      <td>23</td>\n",
       "      <td>25</td>\n",
       "      <td>37</td>\n",
       "    </tr>\n",
       "    <tr>\n",
       "      <th>eyeColor</th>\n",
       "      <td>blue</td>\n",
       "      <td>green</td>\n",
       "      <td>brown</td>\n",
       "      <td>green</td>\n",
       "      <td>green</td>\n",
       "      <td>brown</td>\n",
       "      <td>green</td>\n",
       "      <td>blue</td>\n",
       "      <td>green</td>\n",
       "      <td>blue</td>\n",
       "    </tr>\n",
       "    <tr>\n",
       "      <th>name</th>\n",
       "      <td>Hebert Estes</td>\n",
       "      <td>Allison Wynn</td>\n",
       "      <td>Jacobs Floyd</td>\n",
       "      <td>Fay Hammond</td>\n",
       "      <td>Chasity Marsh</td>\n",
       "      <td>Camacho Cortez</td>\n",
       "      <td>Avery Flynn</td>\n",
       "      <td>Michael Cash</td>\n",
       "      <td>Madeleine Bray</td>\n",
       "      <td>Corine French</td>\n",
       "    </tr>\n",
       "    <tr>\n",
       "      <th>gender</th>\n",
       "      <td>male</td>\n",
       "      <td>male</td>\n",
       "      <td>male</td>\n",
       "      <td>female</td>\n",
       "      <td>female</td>\n",
       "      <td>male</td>\n",
       "      <td>male</td>\n",
       "      <td>male</td>\n",
       "      <td>female</td>\n",
       "      <td>female</td>\n",
       "    </tr>\n",
       "    <tr>\n",
       "      <th>company</th>\n",
       "      <td>ANDRYX</td>\n",
       "      <td>PHARMACON</td>\n",
       "      <td>QUONK</td>\n",
       "      <td>INRT</td>\n",
       "      <td>WAZZU</td>\n",
       "      <td>EARTHWAX</td>\n",
       "      <td>TERSANKI</td>\n",
       "      <td>ORBIXTAR</td>\n",
       "      <td>KIDSTOCK</td>\n",
       "      <td>INTRAWEAR</td>\n",
       "    </tr>\n",
       "    <tr>\n",
       "      <th>email</th>\n",
       "      <td>hebertestes@andryx.com</td>\n",
       "      <td>allisonwynn@pharmacon.com</td>\n",
       "      <td>jacobsfloyd@quonk.com</td>\n",
       "      <td>fayhammond@inrt.com</td>\n",
       "      <td>chasitymarsh@wazzu.com</td>\n",
       "      <td>camachocortez@earthwax.com</td>\n",
       "      <td>averyflynn@tersanki.com</td>\n",
       "      <td>michaelcash@orbixtar.com</td>\n",
       "      <td>madeleinebray@kidstock.com</td>\n",
       "      <td>corinefrench@intrawear.com</td>\n",
       "    </tr>\n",
       "    <tr>\n",
       "      <th>phone</th>\n",
       "      <td>+1 (866) 456-2268</td>\n",
       "      <td>+1 (926) 525-3131</td>\n",
       "      <td>+1 (853) 537-3315</td>\n",
       "      <td>+1 (922) 429-2592</td>\n",
       "      <td>+1 (976) 425-2362</td>\n",
       "      <td>+1 (869) 528-2019</td>\n",
       "      <td>+1 (966) 404-2471</td>\n",
       "      <td>+1 (996) 439-3660</td>\n",
       "      <td>+1 (820) 541-2969</td>\n",
       "      <td>+1 (987) 573-3164</td>\n",
       "    </tr>\n",
       "    <tr>\n",
       "      <th>address</th>\n",
       "      <td>121 Emmons Avenue, Klondike, Kentucky, 5975</td>\n",
       "      <td>724 Brevoort Place, Lodoga, Indiana, 3880</td>\n",
       "      <td>941 Cox Place, Bluffview, Georgia, 5882</td>\n",
       "      <td>518 Randolph Street, Whitestone, Arizona, 8189</td>\n",
       "      <td>604 Just Court, Eastvale, Federated States Of ...</td>\n",
       "      <td>101 Haring Street, Nicut, Louisiana, 1473</td>\n",
       "      <td>569 Oakland Place, Beyerville, Puerto Rico, 2395</td>\n",
       "      <td>808 Duryea Court, Downsville, Northern Mariana...</td>\n",
       "      <td>684 Stratford Road, Rosine, District Of Columb...</td>\n",
       "      <td>964 Clara Street, Snyderville, Oklahoma, 3627</td>\n",
       "    </tr>\n",
       "    <tr>\n",
       "      <th>about</th>\n",
       "      <td>Sit cillum deserunt irure laboris tempor fugia...</td>\n",
       "      <td>Esse quis cillum sunt occaecat ad et eu incidi...</td>\n",
       "      <td>Deserunt adipisicing proident exercitation cil...</td>\n",
       "      <td>Aliqua sunt exercitation quis cupidatat fugiat...</td>\n",
       "      <td>Irure excepteur consequat esse qui tempor dese...</td>\n",
       "      <td>Qui ad commodo elit voluptate cupidatat exerci...</td>\n",
       "      <td>Minim consequat anim ad et tempor et pariatur ...</td>\n",
       "      <td>Minim proident minim consectetur nostrud dolor...</td>\n",
       "      <td>Ullamco ea esse ullamco commodo quis amet ut a...</td>\n",
       "      <td>Sint cillum laborum labore duis fugiat volupta...</td>\n",
       "    </tr>\n",
       "    <tr>\n",
       "      <th>registered</th>\n",
       "      <td>2014-11-10T01:44:03 +06:00</td>\n",
       "      <td>2014-06-10T13:41:26 +05:00</td>\n",
       "      <td>2014-07-30T03:17:32 +05:00</td>\n",
       "      <td>2015-01-30T08:05:38 +06:00</td>\n",
       "      <td>2014-07-31T06:03:19 +05:00</td>\n",
       "      <td>2014-03-17T12:04:00 +05:00</td>\n",
       "      <td>2014-04-13T10:25:03 +05:00</td>\n",
       "      <td>2014-05-24T17:56:54 +05:00</td>\n",
       "      <td>2014-08-11T08:54:06 +05:00</td>\n",
       "      <td>2014-06-25T20:17:13 +05:00</td>\n",
       "    </tr>\n",
       "    <tr>\n",
       "      <th>latitude</th>\n",
       "      <td>-80.157843</td>\n",
       "      <td>55.737207</td>\n",
       "      <td>30.215667</td>\n",
       "      <td>33.825844</td>\n",
       "      <td>-31.660978</td>\n",
       "      <td>74.434627</td>\n",
       "      <td>-89.879409</td>\n",
       "      <td>-86.621367</td>\n",
       "      <td>45.118798</td>\n",
       "      <td>-37.637422</td>\n",
       "    </tr>\n",
       "    <tr>\n",
       "      <th>longitude</th>\n",
       "      <td>161.93016</td>\n",
       "      <td>-167.177561</td>\n",
       "      <td>68.831905</td>\n",
       "      <td>-65.969538</td>\n",
       "      <td>37.559095</td>\n",
       "      <td>69.527088</td>\n",
       "      <td>143.441709</td>\n",
       "      <td>-4.06197</td>\n",
       "      <td>-7.698707</td>\n",
       "      <td>154.195523</td>\n",
       "    </tr>\n",
       "    <tr>\n",
       "      <th>tags</th>\n",
       "      <td>[sit, occaecat, non, ea, sit, laboris, exercit...</td>\n",
       "      <td>[enim, officia, laboris, irure, veniam, occaec...</td>\n",
       "      <td>[est, aute, laborum, sint, anim, sit, consecte...</td>\n",
       "      <td>[aliqua, esse, sint, pariatur, commodo, do, anim]</td>\n",
       "      <td>[aliquip, duis, irure, amet, aliquip, dolore, ...</td>\n",
       "      <td>[et, sit, in, id, ullamco, elit, laborum]</td>\n",
       "      <td>[quis, esse, Lorem, minim, nostrud, voluptate,...</td>\n",
       "      <td>[eu, sit, dolore, culpa, Lorem, in, esse]</td>\n",
       "      <td>[id, magna, excepteur, excepteur, excepteur, d...</td>\n",
       "      <td>[laboris, in, dolore, mollit, velit, laboris, ...</td>\n",
       "    </tr>\n",
       "    <tr>\n",
       "      <th>friends</th>\n",
       "      <td>[{'id': 0, 'name': 'Tanisha Leonard'}, {'id': ...</td>\n",
       "      <td>[{'id': 0, 'name': 'Curry Cox'}, {'id': 1, 'na...</td>\n",
       "      <td>[{'id': 0, 'name': 'Robles Chan'}, {'id': 1, '...</td>\n",
       "      <td>[{'id': 0, 'name': 'Dudley Booker'}, {'id': 1,...</td>\n",
       "      <td>[{'id': 0, 'name': 'Kristina Glover'}, {'id': ...</td>\n",
       "      <td>[{'id': 0, 'name': 'Sexton Tillman'}, {'id': 1...</td>\n",
       "      <td>[{'id': 0, 'name': 'Ball Henson'}, {'id': 1, '...</td>\n",
       "      <td>[{'id': 0, 'name': 'Rodgers Nolan'}, {'id': 1,...</td>\n",
       "      <td>[{'id': 0, 'name': 'Herrera Doyle'}, {'id': 1,...</td>\n",
       "      <td>[{'id': 0, 'name': 'Greta Hill'}, {'id': 1, 'n...</td>\n",
       "    </tr>\n",
       "    <tr>\n",
       "      <th>greeting</th>\n",
       "      <td>Hello, Hebert Estes! You have 4 unread messages.</td>\n",
       "      <td>Hello, Allison Wynn! You have 19 unread messages.</td>\n",
       "      <td>Hello, Jacobs Floyd! You have 5 unread messages.</td>\n",
       "      <td>Hello, Fay Hammond! You have 10 unread messages.</td>\n",
       "      <td>Hello, Chasity Marsh! You have 9 unread messages.</td>\n",
       "      <td>Hello, Camacho Cortez! You have 19 unread mess...</td>\n",
       "      <td>Hello, Avery Flynn! You have 13 unread messages.</td>\n",
       "      <td>Hello, Michael Cash! You have 17 unread messages.</td>\n",
       "      <td>Hello, Madeleine Bray! You have 2 unread messa...</td>\n",
       "      <td>Hello, Corine French! You have 18 unread messa...</td>\n",
       "    </tr>\n",
       "    <tr>\n",
       "      <th>favoriteFruit</th>\n",
       "      <td>strawberry</td>\n",
       "      <td>apple</td>\n",
       "      <td>apple</td>\n",
       "      <td>banana</td>\n",
       "      <td>apple</td>\n",
       "      <td>apple</td>\n",
       "      <td>banana</td>\n",
       "      <td>strawberry</td>\n",
       "      <td>strawberry</td>\n",
       "      <td>banana</td>\n",
       "    </tr>\n",
       "  </tbody>\n",
       "</table>\n",
       "</div>"
      ],
      "text/plain": [
       "                                                               0  \\\n",
       "_id                                     54e23c3e46ab53a440b580e8   \n",
       "index                                                          0   \n",
       "guid                        9962b468-ef3e-4993-b677-617469bc3008   \n",
       "isActive                                                   False   \n",
       "balance                                                $2,097.02   \n",
       "picture                                http://placehold.it/32x32   \n",
       "age                                                           39   \n",
       "eyeColor                                                    blue   \n",
       "name                                                Hebert Estes   \n",
       "gender                                                      male   \n",
       "company                                                   ANDRYX   \n",
       "email                                     hebertestes@andryx.com   \n",
       "phone                                          +1 (866) 456-2268   \n",
       "address              121 Emmons Avenue, Klondike, Kentucky, 5975   \n",
       "about          Sit cillum deserunt irure laboris tempor fugia...   \n",
       "registered                            2014-11-10T01:44:03 +06:00   \n",
       "latitude                                              -80.157843   \n",
       "longitude                                              161.93016   \n",
       "tags           [sit, occaecat, non, ea, sit, laboris, exercit...   \n",
       "friends        [{'id': 0, 'name': 'Tanisha Leonard'}, {'id': ...   \n",
       "greeting        Hello, Hebert Estes! You have 4 unread messages.   \n",
       "favoriteFruit                                         strawberry   \n",
       "\n",
       "                                                               1  \\\n",
       "_id                                     54e23c3ef5cc0d250968c212   \n",
       "index                                                          1   \n",
       "guid                        905f849d-49bf-4a57-b4f3-5d6e4bf1b04c   \n",
       "isActive                                                   False   \n",
       "balance                                                $3,654.02   \n",
       "picture                                http://placehold.it/32x32   \n",
       "age                                                           30   \n",
       "eyeColor                                                   green   \n",
       "name                                                Allison Wynn   \n",
       "gender                                                      male   \n",
       "company                                                PHARMACON   \n",
       "email                                  allisonwynn@pharmacon.com   \n",
       "phone                                          +1 (926) 525-3131   \n",
       "address                724 Brevoort Place, Lodoga, Indiana, 3880   \n",
       "about          Esse quis cillum sunt occaecat ad et eu incidi...   \n",
       "registered                            2014-06-10T13:41:26 +05:00   \n",
       "latitude                                               55.737207   \n",
       "longitude                                            -167.177561   \n",
       "tags           [enim, officia, laboris, irure, veniam, occaec...   \n",
       "friends        [{'id': 0, 'name': 'Curry Cox'}, {'id': 1, 'na...   \n",
       "greeting       Hello, Allison Wynn! You have 19 unread messages.   \n",
       "favoriteFruit                                              apple   \n",
       "\n",
       "                                                               2  \\\n",
       "_id                                     54e23c3e09cc6875638cd36b   \n",
       "index                                                          2   \n",
       "guid                        1b042d48-9cfa-4db5-8b60-4104165591c3   \n",
       "isActive                                                    True   \n",
       "balance                                                $1,536.02   \n",
       "picture                                http://placehold.it/32x32   \n",
       "age                                                           31   \n",
       "eyeColor                                                   brown   \n",
       "name                                                Jacobs Floyd   \n",
       "gender                                                      male   \n",
       "company                                                    QUONK   \n",
       "email                                      jacobsfloyd@quonk.com   \n",
       "phone                                          +1 (853) 537-3315   \n",
       "address                  941 Cox Place, Bluffview, Georgia, 5882   \n",
       "about          Deserunt adipisicing proident exercitation cil...   \n",
       "registered                            2014-07-30T03:17:32 +05:00   \n",
       "latitude                                               30.215667   \n",
       "longitude                                              68.831905   \n",
       "tags           [est, aute, laborum, sint, anim, sit, consecte...   \n",
       "friends        [{'id': 0, 'name': 'Robles Chan'}, {'id': 1, '...   \n",
       "greeting        Hello, Jacobs Floyd! You have 5 unread messages.   \n",
       "favoriteFruit                                              apple   \n",
       "\n",
       "                                                               3  \\\n",
       "_id                                     54e23c3e54e4094147a3b1da   \n",
       "index                                                          3   \n",
       "guid                        69eb3454-8acc-46f1-a636-c6df00dfb542   \n",
       "isActive                                                   False   \n",
       "balance                                                $3,919.64   \n",
       "picture                                http://placehold.it/32x32   \n",
       "age                                                           20   \n",
       "eyeColor                                                   green   \n",
       "name                                                 Fay Hammond   \n",
       "gender                                                    female   \n",
       "company                                                     INRT   \n",
       "email                                        fayhammond@inrt.com   \n",
       "phone                                          +1 (922) 429-2592   \n",
       "address           518 Randolph Street, Whitestone, Arizona, 8189   \n",
       "about          Aliqua sunt exercitation quis cupidatat fugiat...   \n",
       "registered                            2015-01-30T08:05:38 +06:00   \n",
       "latitude                                               33.825844   \n",
       "longitude                                             -65.969538   \n",
       "tags           [aliqua, esse, sint, pariatur, commodo, do, anim]   \n",
       "friends        [{'id': 0, 'name': 'Dudley Booker'}, {'id': 1,...   \n",
       "greeting        Hello, Fay Hammond! You have 10 unread messages.   \n",
       "favoriteFruit                                             banana   \n",
       "\n",
       "                                                               4  \\\n",
       "_id                                     54e23c3e177caf5567ba87ac   \n",
       "index                                                          4   \n",
       "guid                        97962c85-7700-4ffa-a01e-2fcbc147fd81   \n",
       "isActive                                                   False   \n",
       "balance                                                $3,681.39   \n",
       "picture                                http://placehold.it/32x32   \n",
       "age                                                           39   \n",
       "eyeColor                                                   green   \n",
       "name                                               Chasity Marsh   \n",
       "gender                                                    female   \n",
       "company                                                    WAZZU   \n",
       "email                                     chasitymarsh@wazzu.com   \n",
       "phone                                          +1 (976) 425-2362   \n",
       "address        604 Just Court, Eastvale, Federated States Of ...   \n",
       "about          Irure excepteur consequat esse qui tempor dese...   \n",
       "registered                            2014-07-31T06:03:19 +05:00   \n",
       "latitude                                              -31.660978   \n",
       "longitude                                              37.559095   \n",
       "tags           [aliquip, duis, irure, amet, aliquip, dolore, ...   \n",
       "friends        [{'id': 0, 'name': 'Kristina Glover'}, {'id': ...   \n",
       "greeting       Hello, Chasity Marsh! You have 9 unread messages.   \n",
       "favoriteFruit                                              apple   \n",
       "\n",
       "                                                               5  \\\n",
       "_id                                     54e23c3eaffbb506aa15ec1c   \n",
       "index                                                          5   \n",
       "guid                        fc3e04d1-44c2-449e-891a-d4f8053d14a4   \n",
       "isActive                                                    True   \n",
       "balance                                                $1,694.42   \n",
       "picture                                http://placehold.it/32x32   \n",
       "age                                                           30   \n",
       "eyeColor                                                   brown   \n",
       "name                                              Camacho Cortez   \n",
       "gender                                                      male   \n",
       "company                                                 EARTHWAX   \n",
       "email                                 camachocortez@earthwax.com   \n",
       "phone                                          +1 (869) 528-2019   \n",
       "address                101 Haring Street, Nicut, Louisiana, 1473   \n",
       "about          Qui ad commodo elit voluptate cupidatat exerci...   \n",
       "registered                            2014-03-17T12:04:00 +05:00   \n",
       "latitude                                               74.434627   \n",
       "longitude                                              69.527088   \n",
       "tags                   [et, sit, in, id, ullamco, elit, laborum]   \n",
       "friends        [{'id': 0, 'name': 'Sexton Tillman'}, {'id': 1...   \n",
       "greeting       Hello, Camacho Cortez! You have 19 unread mess...   \n",
       "favoriteFruit                                              apple   \n",
       "\n",
       "                                                               6  \\\n",
       "_id                                     54e23c3e0fd8074c2ca52667   \n",
       "index                                                          6   \n",
       "guid                        af8d9a03-fde9-4039-b20c-c4708d4cfc3c   \n",
       "isActive                                                   False   \n",
       "balance                                                $1,214.10   \n",
       "picture                                http://placehold.it/32x32   \n",
       "age                                                           35   \n",
       "eyeColor                                                   green   \n",
       "name                                                 Avery Flynn   \n",
       "gender                                                      male   \n",
       "company                                                 TERSANKI   \n",
       "email                                    averyflynn@tersanki.com   \n",
       "phone                                          +1 (966) 404-2471   \n",
       "address         569 Oakland Place, Beyerville, Puerto Rico, 2395   \n",
       "about          Minim consequat anim ad et tempor et pariatur ...   \n",
       "registered                            2014-04-13T10:25:03 +05:00   \n",
       "latitude                                              -89.879409   \n",
       "longitude                                             143.441709   \n",
       "tags           [quis, esse, Lorem, minim, nostrud, voluptate,...   \n",
       "friends        [{'id': 0, 'name': 'Ball Henson'}, {'id': 1, '...   \n",
       "greeting        Hello, Avery Flynn! You have 13 unread messages.   \n",
       "favoriteFruit                                             banana   \n",
       "\n",
       "                                                               7  \\\n",
       "_id                                     54e23c3eb112d96e4204914d   \n",
       "index                                                          7   \n",
       "guid                        95f1c020-f9eb-4a29-b236-e766759d89d0   \n",
       "isActive                                                   False   \n",
       "balance                                                $2,930.31   \n",
       "picture                                http://placehold.it/32x32   \n",
       "age                                                           23   \n",
       "eyeColor                                                    blue   \n",
       "name                                                Michael Cash   \n",
       "gender                                                      male   \n",
       "company                                                 ORBIXTAR   \n",
       "email                                   michaelcash@orbixtar.com   \n",
       "phone                                          +1 (996) 439-3660   \n",
       "address        808 Duryea Court, Downsville, Northern Mariana...   \n",
       "about          Minim proident minim consectetur nostrud dolor...   \n",
       "registered                            2014-05-24T17:56:54 +05:00   \n",
       "latitude                                              -86.621367   \n",
       "longitude                                               -4.06197   \n",
       "tags                   [eu, sit, dolore, culpa, Lorem, in, esse]   \n",
       "friends        [{'id': 0, 'name': 'Rodgers Nolan'}, {'id': 1,...   \n",
       "greeting       Hello, Michael Cash! You have 17 unread messages.   \n",
       "favoriteFruit                                         strawberry   \n",
       "\n",
       "                                                               8  \\\n",
       "_id                                     54e23c3ef30f14d0e5afddf3   \n",
       "index                                                          8   \n",
       "guid                        bde2d56f-2488-40d0-a7d2-21019ee8a18b   \n",
       "isActive                                                   False   \n",
       "balance                                                $1,944.15   \n",
       "picture                                http://placehold.it/32x32   \n",
       "age                                                           25   \n",
       "eyeColor                                                   green   \n",
       "name                                              Madeleine Bray   \n",
       "gender                                                    female   \n",
       "company                                                 KIDSTOCK   \n",
       "email                                 madeleinebray@kidstock.com   \n",
       "phone                                          +1 (820) 541-2969   \n",
       "address        684 Stratford Road, Rosine, District Of Columb...   \n",
       "about          Ullamco ea esse ullamco commodo quis amet ut a...   \n",
       "registered                            2014-08-11T08:54:06 +05:00   \n",
       "latitude                                               45.118798   \n",
       "longitude                                              -7.698707   \n",
       "tags           [id, magna, excepteur, excepteur, excepteur, d...   \n",
       "friends        [{'id': 0, 'name': 'Herrera Doyle'}, {'id': 1,...   \n",
       "greeting       Hello, Madeleine Bray! You have 2 unread messa...   \n",
       "favoriteFruit                                         strawberry   \n",
       "\n",
       "                                                               9  \n",
       "_id                                     54e23c3ebd80e9c26b057fa3  \n",
       "index                                                          9  \n",
       "guid                        75991ca5-05ed-499e-bbb5-f057f86d05d7  \n",
       "isActive                                                    True  \n",
       "balance                                                $2,839.22  \n",
       "picture                                http://placehold.it/32x32  \n",
       "age                                                           37  \n",
       "eyeColor                                                    blue  \n",
       "name                                               Corine French  \n",
       "gender                                                    female  \n",
       "company                                                INTRAWEAR  \n",
       "email                                 corinefrench@intrawear.com  \n",
       "phone                                          +1 (987) 573-3164  \n",
       "address            964 Clara Street, Snyderville, Oklahoma, 3627  \n",
       "about          Sint cillum laborum labore duis fugiat volupta...  \n",
       "registered                            2014-06-25T20:17:13 +05:00  \n",
       "latitude                                              -37.637422  \n",
       "longitude                                             154.195523  \n",
       "tags           [laboris, in, dolore, mollit, velit, laboris, ...  \n",
       "friends        [{'id': 0, 'name': 'Greta Hill'}, {'id': 1, 'n...  \n",
       "greeting       Hello, Corine French! You have 18 unread messa...  \n",
       "favoriteFruit                                             banana  "
      ]
     },
     "execution_count": 55,
     "metadata": {},
     "output_type": "execute_result"
    }
   ],
   "source": [
    "df = pd.read_json(\"profiles.json.txt\")\n",
    "df.head(10).T"
   ]
  },
  {
   "cell_type": "code",
   "execution_count": 11,
   "id": "bcc42371",
   "metadata": {},
   "outputs": [
    {
     "data": {
      "text/plain": [
       "isActive\n",
       "False    10\n",
       "True      9\n",
       "Name: count, dtype: int64"
      ]
     },
     "execution_count": 11,
     "metadata": {},
     "output_type": "execute_result"
    }
   ],
   "source": [
    "df.isActive.value_counts()   #Total number of users is 19"
   ]
  },
  {
   "cell_type": "code",
   "execution_count": null,
   "id": "a815ce70",
   "metadata": {},
   "outputs": [],
   "source": []
  },
  {
   "cell_type": "code",
   "execution_count": null,
   "id": "a8747ab6",
   "metadata": {},
   "outputs": [],
   "source": [
    "#Total number of inactive iusers is 9"
   ]
  },
  {
   "cell_type": "code",
   "execution_count": null,
   "id": "5f5de961",
   "metadata": {},
   "outputs": [],
   "source": [
    "#Total number of inactive iusers is 10"
   ]
  },
  {
   "cell_type": "code",
   "execution_count": null,
   "id": "4273f6a5",
   "metadata": {},
   "outputs": [],
   "source": []
  },
  {
   "cell_type": "code",
   "execution_count": 20,
   "id": "ce34ed60",
   "metadata": {},
   "outputs": [],
   "source": [
    "#df['balance'] = df['balance'].str.replace(',', '').str.replace('$', '').astype(float)\n",
    "\n",
    "#Equivalant to balances = [profile['balance'] for profile in profiles]\n",
    "# balances = [balance.replace(',', '') for balance in balances]\n",
    "#balances = [balance.replace('$', '') for balance in balances]\n",
    "#balances = [float(balance) for balance in balances]\n",
    "#sum(balances) "
   ]
  },
  {
   "cell_type": "code",
   "execution_count": 22,
   "id": "61ccf8eb",
   "metadata": {},
   "outputs": [],
   "source": [
    "#df.info()"
   ]
  },
  {
   "cell_type": "code",
   "execution_count": 23,
   "id": "faef88c2",
   "metadata": {},
   "outputs": [
    {
     "data": {
      "text/plain": [
       "52667.02"
      ]
     },
     "execution_count": 23,
     "metadata": {},
     "output_type": "execute_result"
    }
   ],
   "source": [
    "df.balance.sum()  #sum of all users"
   ]
  },
  {
   "cell_type": "code",
   "execution_count": null,
   "id": "f9dbcedf",
   "metadata": {},
   "outputs": [],
   "source": []
  },
  {
   "cell_type": "code",
   "execution_count": 24,
   "id": "3e77e6f6",
   "metadata": {},
   "outputs": [
    {
     "data": {
      "text/plain": [
       "2771.9484210526316"
      ]
     },
     "execution_count": 24,
     "metadata": {},
     "output_type": "execute_result"
    }
   ],
   "source": [
    "df.balance.mean()   #Avg balance per user"
   ]
  },
  {
   "cell_type": "code",
   "execution_count": null,
   "id": "aa83b200",
   "metadata": {},
   "outputs": [],
   "source": []
  },
  {
   "cell_type": "code",
   "execution_count": 32,
   "id": "bb54feca",
   "metadata": {},
   "outputs": [
    {
     "data": {
      "text/plain": [
       "1214.1"
      ]
     },
     "execution_count": 32,
     "metadata": {},
     "output_type": "execute_result"
    }
   ],
   "source": [
    "df.balance.min() #1214.1\n",
    "\n",
    "# Money value to search for\n",
    "target_balance_value = 1214.1\n",
    "\n",
    "# Locate rows with the target money value\n",
    "desired_row = df[df['balance'] == target_balance_value]\n",
    "\n",
    "print(desired_row)\n",
    "\n",
    "#df.balance.idxmin #This will return the indexes to discover the min\n",
    "#de.iloc[6]  #This will display the entire row/ additional information relatedto teh min value"
   ]
  },
  {
   "cell_type": "code",
   "execution_count": 85,
   "id": "d436d4bb",
   "metadata": {},
   "outputs": [
    {
     "data": {
      "text/plain": [
       "_id                                       54e23c3e54e4094147a3b1da\n",
       "index                                                            3\n",
       "guid                          69eb3454-8acc-46f1-a636-c6df00dfb542\n",
       "isActive                                                     False\n",
       "balance                                                  $3,919.64\n",
       "picture                                  http://placehold.it/32x32\n",
       "age                                                             20\n",
       "eyeColor                                                     green\n",
       "name                                                   Fay Hammond\n",
       "gender                                                      female\n",
       "company                                                       INRT\n",
       "email                                          fayhammond@inrt.com\n",
       "phone                                            +1 (922) 429-2592\n",
       "address             518 Randolph Street, Whitestone, Arizona, 8189\n",
       "about            Aliqua sunt exercitation quis cupidatat fugiat...\n",
       "registered                              2015-01-30T08:05:38 +06:00\n",
       "latitude                                                 33.825844\n",
       "longitude                                               -65.969538\n",
       "tags             [aliqua, esse, sint, pariatur, commodo, do, anim]\n",
       "friends          [{'id': 0, 'name': 'Dudley Booker'}, {'id': 1,...\n",
       "greeting          Hello, Fay Hammond! You have 10 unread messages.\n",
       "favoriteFruit                                               banana\n",
       "Name: 3, dtype: object"
      ]
     },
     "execution_count": 85,
     "metadata": {},
     "output_type": "execute_result"
    }
   ],
   "source": [
    "df.balance.max()\n",
    "\n",
    "df.balance.idxmax #This will return the indexes to discover the min\n",
    "df.iloc[3]  #This will display the entire row/ additional information relatedto teh min value"
   ]
  },
  {
   "cell_type": "code",
   "execution_count": null,
   "id": "5887c2ad",
   "metadata": {},
   "outputs": [],
   "source": []
  },
  {
   "cell_type": "code",
   "execution_count": null,
   "id": "1edcf1cb",
   "metadata": {},
   "outputs": [],
   "source": []
  },
  {
   "cell_type": "code",
   "execution_count": null,
   "id": "0e416f7b",
   "metadata": {},
   "outputs": [],
   "source": []
  },
  {
   "cell_type": "code",
   "execution_count": 49,
   "id": "fa6ce9e5",
   "metadata": {},
   "outputs": [
    {
     "data": {
      "text/plain": [
       "favoriteFruit\n",
       "strawberry    9\n",
       "apple         6\n",
       "banana        4\n",
       "Name: count, dtype: int64"
      ]
     },
     "execution_count": 49,
     "metadata": {},
     "output_type": "execute_result"
    }
   ],
   "source": [
    "df.favoriteFruit.value_counts()  #Strawberry is the most common fruit\n",
    "\n",
    "                                #Banana is the least common fruit"
   ]
  },
  {
   "cell_type": "code",
   "execution_count": null,
   "id": "1e507053",
   "metadata": {},
   "outputs": [],
   "source": []
  },
  {
   "cell_type": "code",
   "execution_count": 68,
   "id": "24183123",
   "metadata": {},
   "outputs": [
    {
     "name": "stdout",
     "output_type": "stream",
     "text": [
      "210\n"
     ]
    }
   ],
   "source": [
    "list1 = [4,19,5,10,9,19,13,17,2,18,2,13,7,13,12,7,19,5,16] #Total number of unread messages\n",
    "import numpy as np\n",
    "\n",
    "\n",
    "total=0\n",
    "for ele in range(0, len(list1)):\n",
    "    total = total + list1[ele]\n",
    "    \n",
    "print(total) "
   ]
  },
  {
   "cell_type": "code",
   "execution_count": null,
   "id": "91ad1f3d",
   "metadata": {},
   "outputs": [],
   "source": [
    "#def extract_digits(s):\n",
    " #   result = \"\"\n",
    "  #  for c in s:\n",
    "   #     if c.isdigit():\n",
    "    #        result += c\n",
    "    #return result\n",
    "\n",
    "#n_unread_messages = 0\n",
    "\n",
    "#for profile in profiles:\n",
    " #   greeting = profile['greeting']\n",
    "  #  n_unread_messages += int(extract_digits(greeting))\n",
    "\n",
    "#print(n_unread_messages)\n"
   ]
  },
  {
   "cell_type": "code",
   "execution_count": 56,
   "id": "8a5978ee",
   "metadata": {},
   "outputs": [
    {
     "data": {
      "text/plain": [
       "0      Hello, Hebert Estes! You have 4 unread messages.\n",
       "1     Hello, Allison Wynn! You have 19 unread messages.\n",
       "2      Hello, Jacobs Floyd! You have 5 unread messages.\n",
       "3      Hello, Fay Hammond! You have 10 unread messages.\n",
       "4     Hello, Chasity Marsh! You have 9 unread messages.\n",
       "5     Hello, Camacho Cortez! You have 19 unread mess...\n",
       "6      Hello, Avery Flynn! You have 13 unread messages.\n",
       "7     Hello, Michael Cash! You have 17 unread messages.\n",
       "8     Hello, Madeleine Bray! You have 2 unread messa...\n",
       "9     Hello, Corine French! You have 18 unread messa...\n",
       "10    Hello, Trudy Cummings! You have 2 unread messa...\n",
       "11     Hello, Peggy Mayer! You have 13 unread messages.\n",
       "12      Hello, Chan Hurley! You have 7 unread messages.\n",
       "13       Hello, Diaz Pena! You have 13 unread messages.\n",
       "14    Hello, Heath Castaneda! You have 12 unread mes...\n",
       "15    Hello, Greer Blankenship! You have 7 unread me...\n",
       "16    Hello, Coffey Hayes! You have 19 unread messages.\n",
       "17     Hello, Leanne Hurst! You have 5 unread messages.\n",
       "18    Hello, Ewing Larson! You have 16 unread messages.\n",
       "Name: greeting, dtype: object"
      ]
     },
     "execution_count": 56,
     "metadata": {},
     "output_type": "execute_result"
    }
   ],
   "source": [
    "df.greeting"
   ]
  },
  {
   "cell_type": "code",
   "execution_count": null,
   "id": "0fd5996f",
   "metadata": {},
   "outputs": [],
   "source": []
  },
  {
   "cell_type": "code",
   "execution_count": 69,
   "id": "b8c793b6",
   "metadata": {},
   "outputs": [
    {
     "data": {
      "text/plain": [
       "<bound method Series.unique of 0     [sit, occaecat, non, ea, sit, laboris, exercit...\n",
       "1     [enim, officia, laboris, irure, veniam, occaec...\n",
       "2     [est, aute, laborum, sint, anim, sit, consecte...\n",
       "3     [aliqua, esse, sint, pariatur, commodo, do, anim]\n",
       "4     [aliquip, duis, irure, amet, aliquip, dolore, ...\n",
       "5             [et, sit, in, id, ullamco, elit, laborum]\n",
       "6     [quis, esse, Lorem, minim, nostrud, voluptate,...\n",
       "7             [eu, sit, dolore, culpa, Lorem, in, esse]\n",
       "8     [id, magna, excepteur, excepteur, excepteur, d...\n",
       "9     [laboris, in, dolore, mollit, velit, laboris, ...\n",
       "10    [aute, occaecat, ea, pariatur, consectetur, ma...\n",
       "11        [commodo, esse, ad, ullamco, ea, sint, ipsum]\n",
       "12      [minim, veniam, sit, aute, irure, non, eiusmod]\n",
       "13    [excepteur, elit, ullamco, excepteur, ad, quis...\n",
       "14    [elit, commodo, ut, ullamco, ullamco, velit, u...\n",
       "15    [enim, eiusmod, Lorem, reprehenderit, nisi, an...\n",
       "16    [duis, est, in, officia, nostrud, occaecat, mo...\n",
       "17    [culpa, deserunt, tempor, quis, reprehenderit,...\n",
       "18    [Lorem, magna, dolor, aliquip, reprehenderit, ...\n",
       "Name: tags, dtype: object>"
      ]
     },
     "execution_count": 69,
     "metadata": {},
     "output_type": "execute_result"
    }
   ],
   "source": [
    "df.tags.unique  #Total number of unique tags is 18"
   ]
  },
  {
   "cell_type": "code",
   "execution_count": null,
   "id": "efce7edc",
   "metadata": {},
   "outputs": [],
   "source": []
  },
  {
   "cell_type": "code",
   "execution_count": null,
   "id": "f8923b55",
   "metadata": {},
   "outputs": [],
   "source": []
  },
  {
   "cell_type": "code",
   "execution_count": null,
   "id": "73374d29",
   "metadata": {},
   "outputs": [],
   "source": []
  },
  {
   "cell_type": "code",
   "execution_count": null,
   "id": "f6b319b0",
   "metadata": {},
   "outputs": [],
   "source": []
  },
  {
   "cell_type": "code",
   "execution_count": null,
   "id": "bb900e76",
   "metadata": {},
   "outputs": [],
   "source": []
  },
  {
   "cell_type": "code",
   "execution_count": null,
   "id": "c5c77fe6",
   "metadata": {},
   "outputs": [],
   "source": [
    "\n"
   ]
  },
  {
   "cell_type": "code",
   "execution_count": null,
   "id": "ebd0a1c3",
   "metadata": {},
   "outputs": [],
   "source": []
  },
  {
   "cell_type": "code",
   "execution_count": null,
   "id": "18238a21",
   "metadata": {},
   "outputs": [],
   "source": []
  },
  {
   "cell_type": "code",
   "execution_count": null,
   "id": "dc34e2e8",
   "metadata": {},
   "outputs": [],
   "source": []
  }
 ],
 "metadata": {
  "kernelspec": {
   "display_name": "Python 3 (ipykernel)",
   "language": "python",
   "name": "python3"
  },
  "language_info": {
   "codemirror_mode": {
    "name": "ipython",
    "version": 3
   },
   "file_extension": ".py",
   "mimetype": "text/x-python",
   "name": "python",
   "nbconvert_exporter": "python",
   "pygments_lexer": "ipython3",
   "version": "3.11.5"
  }
 },
 "nbformat": 4,
 "nbformat_minor": 5
}
