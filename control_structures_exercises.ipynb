{
 "cells": [
  {
   "cell_type": "code",
   "execution_count": null,
   "id": "5f866888",
   "metadata": {},
   "outputs": [],
   "source": [
    "#Prompt the user for a day of the week, print out whether the day is Monday or not\n",
    "\n",
    "\n",
    "\n",
    "it_is_Monday = True\n",
    "\n",
    "if it_is_Monday:\n",
    "    print('It is Monday')"
   ]
  },
  {
   "cell_type": "code",
   "execution_count": null,
   "id": "01fc2b5f",
   "metadata": {},
   "outputs": [],
   "source": []
  },
  {
   "cell_type": "code",
   "execution_count": 4,
   "id": "ba3896da",
   "metadata": {},
   "outputs": [
    {
     "name": "stdout",
     "output_type": "stream",
     "text": [
      "Weekend is here\n"
     ]
    }
   ],
   "source": [
    "#Prompt the user for a day of the week, print out whether the day is a weekday or a weekend\n",
    "\n",
    "it_is_weekday = True\n",
    "\n",
    "if not it_is_weekday:\n",
    "    print('Nope, not the weekend yet.')\n",
    "else:\n",
    "    print('Weekend is here')"
   ]
  },
  {
   "cell_type": "code",
   "execution_count": null,
   "id": "58eff22a",
   "metadata": {},
   "outputs": [],
   "source": []
  },
  {
   "cell_type": "code",
   "execution_count": 5,
   "id": "0049ec36",
   "metadata": {},
   "outputs": [
    {
     "name": "stdout",
     "output_type": "stream",
     "text": [
      "How many regular hours did you work? 50\n",
      "How many overtime hours did you work? 10\n",
      "Your weekly earned paycheck is $ 975.0\n"
     ]
    }
   ],
   "source": [
    "#Calculate a weekly paycheck, accounting for overtime pay\n",
    "\n",
    "hours_worked = int(input('How many regular hours did you work? '))\n",
    "overtime_hours_worked = int(input('How many overtime hours did you work? '))\n",
    "hourly_pay_rate = 15\n",
    "weekly_paycheck_regular =  (hours_worked * hourly_pay_rate) \n",
    "weekly_paycheck_overtime =  (hours_worked * hourly_pay_rate) + (hourly_pay_rate * 1.5 * overtime_hours_worked)\n",
    "if hours_worked < 40:\n",
    "    print(\"You just earned \", '$', weekly_paycheck_regular)\n",
    "else :\n",
    "    print(\"Your weekly earned paycheck is\", '$', weekly_paycheck_overtime)"
   ]
  },
  {
   "cell_type": "code",
   "execution_count": null,
   "id": "209f40b8",
   "metadata": {},
   "outputs": [],
   "source": []
  },
  {
   "cell_type": "code",
   "execution_count": null,
   "id": "4082c583",
   "metadata": {},
   "outputs": [],
   "source": [
    "# 2. Loop Basics "
   ]
  },
  {
   "cell_type": "code",
   "execution_count": 1,
   "id": "2b56fed5",
   "metadata": {},
   "outputs": [
    {
     "name": "stdout",
     "output_type": "stream",
     "text": [
      "5\n",
      "6\n",
      "7\n",
      "8\n",
      "9\n",
      "10\n",
      "11\n",
      "12\n",
      "13\n",
      "14\n",
      "15\n"
     ]
    }
   ],
   "source": [
    "#Create an integer variable i with a value of 5. Create a while loop that runs so long as i is less than or equal to 15. \n",
    "#Each loop iteration, output the current value of i, then increment i by one.\n",
    "\n",
    "i = 5\n",
    "while i <= 15:\n",
    "    print(i)\n",
    "    i += 1"
   ]
  },
  {
   "cell_type": "code",
   "execution_count": 2,
   "id": "a0f1fa75",
   "metadata": {},
   "outputs": [],
   "source": [
    "counter = 0\n",
    "while counter <= 100:\n",
    "    print(counter)\n",
    "    counter += 2"
   ]
  },
  {
   "cell_type": "code",
   "execution_count": null,
   "id": "5f9c4546",
   "metadata": {},
   "outputs": [],
   "source": [
    "\n",
    "\n"
   ]
  },
  {
   "cell_type": "code",
   "execution_count": 4,
   "id": "6d31ea19",
   "metadata": {},
   "outputs": [],
   "source": [
    "counter = 2\n",
    "while counter <= 1000000:\n",
    "    print(counter)\n",
    "    counter = counter ** 2"
   ]
  },
  {
   "cell_type": "code",
   "execution_count": null,
   "id": "db7718d1",
   "metadata": {},
   "outputs": [],
   "source": []
  },
  {
   "cell_type": "code",
   "execution_count": null,
   "id": "a1d651e7",
   "metadata": {},
   "outputs": [],
   "source": [
    "#For Loops"
   ]
  },
  {
   "cell_type": "code",
   "execution_count": 6,
   "id": "b992dfbc",
   "metadata": {},
   "outputs": [
    {
     "name": "stdout",
     "output_type": "stream",
     "text": [
      "Choose a number: 4\n",
      "4 x 1 = 4\n",
      "4 x 2 = 8\n",
      "4 x 3 = 12\n",
      "4 x 4 = 16\n",
      "4 x 5 = 20\n",
      "4 x 6 = 24\n",
      "4 x 7 = 28\n",
      "4 x 8 = 32\n",
      "4 x 9 = 36\n",
      "4 x 10 = 40\n"
     ]
    }
   ],
   "source": [
    "#Write some code using a for loop that prompts the user for a number, \n",
    "#then shows a multiplication table up through 10 for that number.\n",
    "\n",
    "num = int(input(\"Choose a number: \"))\n",
    "\n",
    "for i in range(1,11):\n",
    "    print(num,'x',i,'=',num*i)"
   ]
  },
  {
   "cell_type": "code",
   "execution_count": 8,
   "id": "2dd642fa",
   "metadata": {},
   "outputs": [
    {
     "name": "stdout",
     "output_type": "stream",
     "text": [
      "\n",
      "1\n",
      "22\n",
      "333\n",
      "4444\n",
      "55555\n",
      "666666\n",
      "7777777\n",
      "88888888\n",
      "999999999\n"
     ]
    }
   ],
   "source": [
    "#ii :\n",
    "for i in range(10):\n",
    "    print(str(i) * i)"
   ]
  },
  {
   "cell_type": "code",
   "execution_count": null,
   "id": "078ac1eb",
   "metadata": {},
   "outputs": [],
   "source": []
  },
  {
   "cell_type": "code",
   "execution_count": 7,
   "id": "c9fe2f0f",
   "metadata": {},
   "outputs": [
    {
     "name": "stdout",
     "output_type": "stream",
     "text": [
      "Please input a number between 1 and 50: \n",
      "10\n",
      "Your input must be less than 50 and odd and greater than: 1\n",
      "\n",
      "Please input a number between 1 and 50: \n",
      "15\n",
      "Number to skip is: 15\n",
      "\n",
      "Here is an odd number: 1\n",
      "Here is an odd number: 3\n",
      "Here is an odd number: 5\n",
      "Here is an odd number: 7\n",
      "Here is an odd number: 9\n",
      "Here is an odd number: 11\n",
      "Here is an odd number: 13\n",
      "Yikes! Skipping number: 15\n",
      "Here is an odd number: 17\n",
      "Here is an odd number: 19\n",
      "Here is an odd number: 21\n",
      "Here is an odd number: 23\n",
      "Here is an odd number: 25\n",
      "Here is an odd number: 27\n",
      "Here is an odd number: 29\n",
      "Here is an odd number: 31\n",
      "Here is an odd number: 33\n",
      "Here is an odd number: 35\n",
      "Here is an odd number: 37\n",
      "Here is an odd number: 39\n",
      "Here is an odd number: 41\n",
      "Here is an odd number: 43\n",
      "Here is an odd number: 45\n",
      "Here is an odd number: 47\n",
      "Here is an odd number: 49\n"
     ]
    }
   ],
   "source": [
    "#c. break and continue\n",
    "\n",
    "def get_odd_number_between_1_and_50():\n",
    "    while True:\n",
    "        user_number = input(\"Please input a number between 1 and 50: \\n\")\n",
    "\n",
    "        if user_number.isdigit():\n",
    "            user_number = int(user_number)\n",
    "\n",
    "            large_enough = user_number > 1\n",
    "            small_enough = user_number < 50\n",
    "            odd = user_number % 2 != 0\n",
    "\n",
    "            if large_enough and small_enough and odd:\n",
    "                break\n",
    "            else:\n",
    "                print(\"Your input must be less than 50 and odd and greater than: 1\\n\")\n",
    "        else:\n",
    "            print(\"Your input must be numerals.\\n\")\n",
    "\n",
    "    return user_number\n",
    "\n",
    "user_number = get_odd_number_between_1_and_50()\n",
    "\n",
    "print(f\"Number to skip is: {user_number}\")\n",
    "print() # prints an extra new line\n",
    "\n",
    "for i in range(1, 50, 2):\n",
    "    if i == user_number:\n",
    "        print(f\"Yikes! Skipping number: {i}\")\n",
    "        continue\n",
    "    print(f\"Here is an odd number: {i}\")"
   ]
  },
  {
   "cell_type": "code",
   "execution_count": null,
   "id": "1299f56a",
   "metadata": {},
   "outputs": [],
   "source": []
  },
  {
   "cell_type": "code",
   "execution_count": null,
   "id": "eb02b3e6",
   "metadata": {},
   "outputs": [],
   "source": []
  },
  {
   "cell_type": "code",
   "execution_count": 1,
   "id": "6132d304",
   "metadata": {},
   "outputs": [
    {
     "name": "stdout",
     "output_type": "stream",
     "text": [
      "Enter a positive number4\n",
      "0\n",
      "1\n",
      "2\n",
      "3\n",
      "4\n"
     ]
    }
   ],
   "source": [
    "# d. The input function can be used to prompt for input and use that input in your python code. \n",
    "#Prompt the user to enter a positive number and write a loop that counts from 0 to that number. \n",
    "#(Hints: first make sure that the value the user entered is a valid number, \n",
    "# also note that the input function returns a string, so you'll need to convert this to a numeric type.)\n",
    "\n",
    "user_input = input(\"Enter a positive number\")\n",
    "\n",
    "if user_input.isdigit():\n",
    "    user_input = int(user_input)\n",
    "    if user_input >= 0:\n",
    "        for i in range(0, user_input + 1):\n",
    "            print(i)\n",
    "else:\n",
    "    print(\"Invalid entry\")"
   ]
  },
  {
   "cell_type": "code",
   "execution_count": null,
   "id": "151e72c4",
   "metadata": {},
   "outputs": [],
   "source": []
  },
  {
   "cell_type": "code",
   "execution_count": null,
   "id": "a36b4995",
   "metadata": {},
   "outputs": [],
   "source": []
  },
  {
   "cell_type": "code",
   "execution_count": 10,
   "id": "5a859348",
   "metadata": {},
   "outputs": [
    {
     "name": "stdout",
     "output_type": "stream",
     "text": [
      "Enter a positive number: 4\n",
      "4\n",
      "3\n",
      "2\n",
      "1\n"
     ]
    }
   ],
   "source": [
    "user_input = input(\"Enter a positive number: \")\n",
    "\n",
    "if user_input.isdigit():\n",
    "    user_input = int(user_input)\n",
    "    if user_input >= 1:\n",
    "        for i in reversed(range(1, user_input + 1)):\n",
    "            print(i)\n",
    "else:\n",
    "    print(\"Entry not valid\")"
   ]
  },
  {
   "cell_type": "code",
   "execution_count": null,
   "id": "8b06a31f",
   "metadata": {},
   "outputs": [],
   "source": []
  },
  {
   "cell_type": "code",
   "execution_count": 22,
   "id": "7583921e",
   "metadata": {},
   "outputs": [
    {
     "name": "stdout",
     "output_type": "stream",
     "text": [
      "1\n",
      "2\n",
      "3 Buzzy\n",
      "4\n",
      "5 Fizz\n",
      "6 Buzzy\n",
      "7\n",
      "8\n",
      "9 Buzzy\n",
      "10 Fizz\n",
      "11\n",
      "12 Buzzy\n",
      "13\n",
      "14\n",
      "15 Fizzbuzz\n",
      "16\n",
      "17\n",
      "18 Buzzy\n",
      "19\n",
      "20 Fizz\n",
      "21 Buzzy\n",
      "22\n",
      "23\n",
      "24 Buzzy\n",
      "25 Fizz\n",
      "26\n",
      "27 Buzzy\n",
      "28\n",
      "29\n",
      "30 Fizzbuzz\n",
      "31\n",
      "32\n",
      "33 Buzzy\n",
      "34\n",
      "35 Fizz\n",
      "36 Buzzy\n",
      "37\n",
      "38\n",
      "39 Buzzy\n",
      "40 Fizz\n",
      "41\n",
      "42 Buzzy\n",
      "43\n",
      "44\n",
      "45 Fizzbuzz\n",
      "46\n",
      "47\n",
      "48 Buzzy\n",
      "49\n",
      "50 Fizz\n",
      "51 Buzzy\n",
      "52\n",
      "53\n",
      "54 Buzzy\n",
      "55 Fizz\n",
      "56\n",
      "57 Buzzy\n",
      "58\n",
      "59\n",
      "60 Fizzbuzz\n",
      "61\n",
      "62\n",
      "63 Buzzy\n",
      "64\n",
      "65 Fizz\n",
      "66 Buzzy\n",
      "67\n",
      "68\n",
      "69 Buzzy\n",
      "70 Fizz\n",
      "71\n",
      "72 Buzzy\n",
      "73\n",
      "74\n",
      "75 Fizzbuzz\n",
      "76\n",
      "77\n",
      "78 Buzzy\n",
      "79\n",
      "80 Fizz\n",
      "81 Buzzy\n",
      "82\n",
      "83\n",
      "84 Buzzy\n",
      "85 Fizz\n",
      "86\n",
      "87 Buzzy\n",
      "88\n",
      "89\n",
      "90 Fizzbuzz\n",
      "91\n",
      "92\n",
      "93 Buzzy\n",
      "94\n",
      "95 Fizz\n",
      "96 Buzzy\n",
      "97\n",
      "98\n",
      "99 Buzzy\n",
      "100 Fizz\n"
     ]
    }
   ],
   "source": [
    "#Fizzbuzz\n",
    "\n",
    "\n",
    "for i in range(1, 101):\n",
    "    if (i % 3 == 0 and i % 5 == 0):\n",
    "        print(i, \"Fizzbuzz\")\n",
    "            \n",
    "    elif i % 5 == 0:\n",
    "        print(i, \"Fizz\")\n",
    "    elif i % 3 == 0:\n",
    "        print(i, \"Buzzy\")\n",
    "    else:\n",
    "        print(i)"
   ]
  },
  {
   "cell_type": "code",
   "execution_count": null,
   "id": "b13580f6",
   "metadata": {},
   "outputs": [],
   "source": []
  },
  {
   "cell_type": "code",
   "execution_count": null,
   "id": "3d18b8d4",
   "metadata": {},
   "outputs": [],
   "source": []
  },
  {
   "cell_type": "code",
   "execution_count": 36,
   "id": "6caaac68",
   "metadata": {},
   "outputs": [
    {
     "name": "stdout",
     "output_type": "stream",
     "text": [
      "Enter a number: 2\n",
      "======\t\t=====\t\t=====\n",
      "Number\t\tSquare\t\tCubed\n",
      "======\t\t=====\t\t=====\n",
      "1 \t\t 1 \t\t 1\n",
      "2 \t\t 4 \t\t 8\n",
      "Do you want to continue? yes or no? yes\n",
      "Okay, will continue!\n",
      "Enter a number: 2\n",
      "======\t\t=====\t\t=====\n",
      "Number\t\tSquare\t\tCubed\n",
      "======\t\t=====\t\t=====\n",
      "1 \t\t 1 \t\t 1\n",
      "2 \t\t 4 \t\t 8\n",
      "Do you want to continue? yes or no? no\n",
      "Goodbye!\n"
     ]
    }
   ],
   "source": [
    "#4. Display a table of powers.\n",
    "\n",
    "user_input = int(input(\"Enter a number: \"))\n",
    "\n",
    "\n",
    "print(\"======\\t\\t=====\\t\\t=====\")\n",
    "print(\"Number\\t\\tSquare\\t\\tCubed\")\n",
    "print(\"======\\t\\t=====\\t\\t=====\")\n",
    "\n",
    "for i in range(1, user_input + 1):\n",
    "    print(i,\"\\t\\t\", i**i,\"\\t\\t\", i*i*i)\n",
    "    \n",
    "    \n",
    "while True:\n",
    "        a = input(\"Do you want to continue? yes or no? \")  #Set standard of true/False\n",
    "        if a==\"yes\":                                       #If standard T or F\n",
    "            print(\"Okay, will continue!\")                  #Motions for appropiate outcome\n",
    "            user_input = int(input(\"Enter a number: \"))\n",
    "            print(\"======\\t\\t=====\\t\\t=====\")\n",
    "            print(\"Number\\t\\tSquare\\t\\tCubed\")\n",
    "            print(\"======\\t\\t=====\\t\\t=====\")\n",
    "\n",
    "            for i in range(1, user_input + 1):\n",
    "                print(i,\"\\t\\t\", i**i,\"\\t\\t\", i*i*i)\n",
    "            continue\n",
    "        elif a==\"no\":\n",
    "            print(\"Goodbye!\")\n",
    "            break\n",
    "        else:\n",
    "            print(\"Enter yes or no\")"
   ]
  },
  {
   "cell_type": "code",
   "execution_count": 41,
   "id": "2bf9548e",
   "metadata": {},
   "outputs": [
    {
     "name": "stdout",
     "output_type": "stream",
     "text": [
      "Please enter a grade: 80\n",
      "80 is a B-\n"
     ]
    }
   ],
   "source": [
    "#5. Convert given number grades into letter grades.\n",
    "\n",
    "#user_input = 'yes'\n",
    "#while user_input.lower() == 'yes':\n",
    "grade = int(input('Please enter a grade: '))\n",
    "if grade >= 99 and grade <= 100:\n",
    "    \n",
    "    print(f'{grade} is an A+')\n",
    "elif grade >= 90:\n",
    "    print(f'{grade} is an A')\n",
    "elif grade >= 88:\n",
    "    print(f'{grade} is an A-')\n",
    "elif grade >= 86:\n",
    "    print(f'{grade} is a B+')\n",
    "elif grade >= 82:\n",
    "    print(f'{grade} is a B')\n",
    "elif grade >= 80:\n",
    "    print(f'{grade} is a B-')\n",
    "elif grade >= 78:\n",
    "    print(f'{grade} is a C+')\n",
    "elif grade >= 69:\n",
    "    print(f'{grade} is a C')\n",
    "elif grade >= 67:\n",
    "    print(f'{grade} is a C-')\n",
    "elif grade >= 65:\n",
    "    print(f'{grade} is a D+')\n",
    "elif grade >= 62:\n",
    "    print(f'{grade} is a D')\n",
    "elif grade >= 60:\n",
    "    print(f'{grade} is a D-')\n",
    "elif grade <= 59:\n",
    "    \n",
    "    print(f'{grade} is an F')\n",
    "else:\n",
    "        print('Please enter a grade between 1-100')\n",
    "    #user_input = input('Would you like to continue? yes/no: ')"
   ]
  },
  {
   "cell_type": "code",
   "execution_count": null,
   "id": "927d00e2",
   "metadata": {},
   "outputs": [],
   "source": []
  },
  {
   "cell_type": "code",
   "execution_count": null,
   "id": "f54553bc",
   "metadata": {},
   "outputs": [],
   "source": []
  },
  {
   "cell_type": "code",
   "execution_count": 2,
   "id": "97e32d45",
   "metadata": {},
   "outputs": [
    {
     "name": "stdout",
     "output_type": "stream",
     "text": [
      "{'title': 'Python Data Science Handbook', 'author': 'Jake VanderPlas', 'genre': 'Data Science'}\n",
      "{'title': 'Think Stats', 'author': 'Allen B. Downey', 'genre': 'Data Science'}\n",
      "{'title': 'The Hundred-Page Machine Learning Book', 'author': 'Andriy Burkov', 'genre': 'Data Science'}\n"
     ]
    }
   ],
   "source": [
    "#Prompt the user to enter a genre, then loop through your books \n",
    "#list and print out the titles of all the books in that genre.\n",
    "\n",
    "books =( \n",
    "    {'title': 'Python Data Science Handbook','author': 'Jake VanderPlas','genre': 'Data Science'},\n",
    "    {'title': 'Think Stats','author': 'Allen B. Downey','genre': 'Data Science'},\n",
    "    {'title': 'The Hundred-Page Machine Learning Book','author': 'Andriy Burkov','genre': 'Data Science'})\n",
    "\n",
    "def search(genre, book_list):\n",
    "    return [element for element in books if element['genre'] == genre]\n",
    " \n",
    "user_output = search(\"Data Science\", books)\n",
    "#print(user_output[0])\n",
    "#print(user_output[1])\n",
    "#print(user_output[2])\n",
    "print(*user_output,sep='\\n')\n"
   ]
  },
  {
   "cell_type": "code",
   "execution_count": null,
   "id": "8ad74efc",
   "metadata": {},
   "outputs": [],
   "source": []
  },
  {
   "cell_type": "markdown",
   "id": "7015da38",
   "metadata": {},
   "source": [
    "Create a list of dictionaries where each dictionary represents a book that you have read. \n",
    "Each dictionary in the list should have the keys title, author, and genre. \n",
    "Loop through the list and print out information about each book.\n",
    "\n"
   ]
  },
  {
   "cell_type": "code",
   "execution_count": 84,
   "id": "b1384104",
   "metadata": {},
   "outputs": [
    {
     "name": "stdout",
     "output_type": "stream",
     "text": [
      "{'title': 'Python Data Science Handbook', 'author': 'Jake VanderPlas', 'genre': 'Dara Science'}\n",
      "{'title': 'Think Stats', 'author': 'Allen B. Downey', 'genre': 'Data Science'}\n",
      "{'title': 'The Hundred-Page Machine Learning Book', 'author': 'Andriy Burkov', 'genre': 'Data Science'}\n"
     ]
    }
   ],
   "source": [
    "books = [\n",
    "    {'title': 'Python Data Science Handbook','author': 'Jake VanderPlas','genre': 'Dara Science'},\n",
    "    {'title': 'Think Stats','author': 'Allen B. Downey','genre': 'Data Science'},\n",
    "    {'title': 'The Hundred-Page Machine Learning Book','author': 'Andriy Burkov','genre': 'Data Science'}\n",
    "]\n",
    "\n",
    "for i in books:\n",
    "    #print(i)\n",
    "    print(i,sep='\\n')"
   ]
  },
  {
   "cell_type": "code",
   "execution_count": null,
   "id": "0dc182c4",
   "metadata": {},
   "outputs": [],
   "source": []
  },
  {
   "cell_type": "code",
   "execution_count": 3,
   "id": "b019e149",
   "metadata": {},
   "outputs": [
    {
     "name": "stdout",
     "output_type": "stream",
     "text": [
      "Please enter a genre: Data Science\n",
      "---\n",
      "title: Python Data Science Handbook\n",
      "author: Jake VanderPlas\n",
      "genre: Data Science\n",
      "---\n",
      "title: Think Stats\n",
      "author: Allen B. Downey\n",
      "genre: Data Science\n",
      "---\n",
      "title: The Hundred-Page Machine Learning Book\n",
      "author: Andriy Burkov\n",
      "genre: Data Science\n"
     ]
    }
   ],
   "source": [
    "#Alt method for last problem\n",
    "\n",
    "genre = input('Please enter a genre: ')\n",
    "selected_books = [element for element in books if element['genre'] == genre]\n",
    "\n",
    "for book in selected_books:\n",
    "    print('---')\n",
    "    print('title: ' + book['title'])\n",
    "    print('author: ' + book['author'])\n",
    "    print('genre: ' + book['genre'])"
   ]
  },
  {
   "cell_type": "code",
   "execution_count": null,
   "id": "c438da3d",
   "metadata": {},
   "outputs": [],
   "source": []
  }
 ],
 "metadata": {
  "kernelspec": {
   "display_name": "Python 3 (ipykernel)",
   "language": "python",
   "name": "python3"
  },
  "language_info": {
   "codemirror_mode": {
    "name": "ipython",
    "version": 3
   },
   "file_extension": ".py",
   "mimetype": "text/x-python",
   "name": "python",
   "nbconvert_exporter": "python",
   "pygments_lexer": "ipython3",
   "version": "3.11.5"
  }
 },
 "nbformat": 4,
 "nbformat_minor": 5
}
